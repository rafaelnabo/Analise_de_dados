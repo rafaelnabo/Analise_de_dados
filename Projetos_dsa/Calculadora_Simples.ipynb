{
 "cells": [
  {
   "cell_type": "code",
   "execution_count": 11,
   "id": "094ae3f1",
   "metadata": {},
   "outputs": [],
   "source": [
    "#calculadora de Simples\n",
    "\n",
    "def separar(input_calc):\n",
    "    calc = ''\n",
    "    check = 0\n",
    "    for i in range(0, len(input_calc)):\n",
    "        if not input_calc[i] in ['+', '-', '*', '/']:\n",
    "            calc = calc+input_calc[i]\n",
    "        else:\n",
    "            calc = calc+' '\n",
    "            operador = input_calc[i]\n",
    "            check += 1\n",
    "    out_calc = calc.split()\n",
    "    #saida ([primeiro num, segundo num], operador, check)\n",
    "    return out_calc, operador, check"
   ]
  },
  {
   "cell_type": "code",
   "execution_count": 12,
   "id": "35b6c68e",
   "metadata": {},
   "outputs": [],
   "source": [
    "def calc(input_calc):\n",
    "    #matriz: numeros[0,y] ; operador[1] ; check[2]\n",
    "    matriz= separar(input_calc)\n",
    "    if matriz[1] == '' or matriz[2] > 1:\n",
    "        return 'Operação inválida!'\n",
    "    else:\n",
    "        matriz= [[float(matriz[0][0]), float(matriz[0][1])],matriz[1]]\n",
    "        if matriz[1] == '+':\n",
    "           return matriz[0][0] + matriz[0][1]\n",
    "        if matriz[1] == '-':\n",
    "            return matriz[0][0] - matriz[0][1]\n",
    "        if matriz[1] == '*':\n",
    "            return matriz[0][0] * matriz[0][1]\n",
    "        if matriz[1] == '/' and matriz[0][1] != 0:\n",
    "            return matriz[0][0] / matriz[0][1]\n",
    "        else:\n",
    "            return 'Operação inválida!'\n",
    "        \n"
   ]
  },
  {
   "cell_type": "code",
   "execution_count": 17,
   "id": "4d21b841",
   "metadata": {},
   "outputs": [
    {
     "name": "stdout",
     "output_type": "stream",
     "text": [
      "A operação pode ser feita utilizando 2 numeros e um operador(+,-,/,*)\n",
      "Exemplo: 50/10\n",
      "Resultado de 39/0 é: Operação inválida!\n"
     ]
    }
   ],
   "source": [
    "print('''A operação pode ser feita utilizando 2 numeros e um operador(+,-,/,*)\n",
    "Exemplo: 50/10''')\n",
    "calcular = input('Digite a operação:')\n",
    "\n",
    "print(f'Resultado de {calcular} é:', calc(calcular))"
   ]
  }
 ],
 "metadata": {
  "kernelspec": {
   "display_name": "Python 3 (ipykernel)",
   "language": "python",
   "name": "python3"
  },
  "language_info": {
   "codemirror_mode": {
    "name": "ipython",
    "version": 3
   },
   "file_extension": ".py",
   "mimetype": "text/x-python",
   "name": "python",
   "nbconvert_exporter": "python",
   "pygments_lexer": "ipython3",
   "version": "3.9.13"
  }
 },
 "nbformat": 4,
 "nbformat_minor": 5
}
